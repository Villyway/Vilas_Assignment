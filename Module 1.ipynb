{
 "cells": [
  {
   "cell_type": "code",
   "execution_count": null,
   "id": "ca16e85c",
   "metadata": {},
   "outputs": [],
   "source": [
    "# Module 1:"
   ]
  },
  {
   "cell_type": "code",
   "execution_count": null,
   "id": "6f0cbce9",
   "metadata": {},
   "outputs": [],
   "source": [
    "#Question 1: What is Software?\n",
    "\n",
    "Software is a set of instructions, data or programs used to operate computers and execute specific tasks. \n",
    "It is the opposite of hardware, which describes the physical aspects of a computer. \n",
    "Software is a generic term used to refer to applications, scripts and programs that run on a device. \n",
    "It can be thought of as the variable part of a computer, while hardware is the invariable part."
   ]
  },
  {
   "cell_type": "code",
   "execution_count": null,
   "id": "b373dc31",
   "metadata": {},
   "outputs": [],
   "source": [
    "#Question 2: What are the types of Applications?\n",
    "\n",
    "An application is a program that runs on a computer, mobile phone/tablet, or through a browser \n",
    "(in this case, you need constant access to the Internet).\n",
    "Although applications are no different from computer programs, this term is usually used to \n",
    "refer to simplified programs intended for the average user (or other programs)."
   ]
  },
  {
   "cell_type": "code",
   "execution_count": null,
   "id": "22fb42f3",
   "metadata": {},
   "outputs": [],
   "source": [
    "#Question 3: What is programing?\n",
    "\n",
    "Programming is the process of creating a set of instructions that tell a computer how to perform a task. \n",
    "Programming can be done using a variety of computer programming languages, \n",
    "such as JavaScript, Python, and C++"
   ]
  },
  {
   "cell_type": "code",
   "execution_count": null,
   "id": "6ef3b826",
   "metadata": {},
   "outputs": [],
   "source": [
    "#Que 4: What is Python?\n",
    "\n",
    "Python is a computer programming language often used to build websites and software, automate tasks, and conduct data analysis.\n",
    "Python is a popular programming language. It was created by Guido van Rossum, and released in 1991.\n",
    "Python consistently ranks as one of the most popular programming languages."
   ]
  }
 ],
 "metadata": {
  "kernelspec": {
   "display_name": "Python 3 (ipykernel)",
   "language": "python",
   "name": "python3"
  },
  "language_info": {
   "codemirror_mode": {
    "name": "ipython",
    "version": 3
   },
   "file_extension": ".py",
   "mimetype": "text/x-python",
   "name": "python",
   "nbconvert_exporter": "python",
   "pygments_lexer": "ipython3",
   "version": "3.11.0"
  }
 },
 "nbformat": 4,
 "nbformat_minor": 5
}
